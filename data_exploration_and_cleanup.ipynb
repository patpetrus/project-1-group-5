{
 "cells": [
  {
   "cell_type": "markdown",
   "metadata": {},
   "source": [
    "# Data Exploration"
   ]
  },
  {
   "cell_type": "markdown",
   "metadata": {},
   "source": [
    "## World Happiness Score\n",
    "Dates Included: 2015-2019\n",
    "\n",
    "In this project, we explored how specific variables may be correlated with the happiness score for a particular country.\n"
   ]
  },
  {
   "cell_type": "markdown",
   "metadata": {},
   "source": [
    "## Indicators Reviewed"
   ]
  },
  {
   "cell_type": "markdown",
   "metadata": {},
   "source": [
    "### Access to Electricity\n",
    "Moderately strong positive correlation between a nation’s access to electricity and its happiness score (r = 0.67). "
   ]
  },
  {
   "cell_type": "markdown",
   "metadata": {},
   "source": [
    "### Adult Literacy\n",
    "(Data set incomplete, not included in final results)"
   ]
  },
  {
   "cell_type": "markdown",
   "metadata": {},
   "source": [
    "### Education Spending\n",
    "(Data set incomplete, not included in final results)"
   ]
  },
  {
   "cell_type": "markdown",
   "metadata": {},
   "source": [
    "### Government Expenditure\n",
    "\n",
    "No significant correlation between a country's GDP and a country's happiness score (r = 0.17)"
   ]
  },
  {
   "cell_type": "markdown",
   "metadata": {},
   "source": [
    "### Infant Mortality Rate\n",
    "Moderately strong negative correlation between Infant Mortality Rate and Happiness Score (r = -0.63)."
   ]
  },
  {
   "cell_type": "markdown",
   "metadata": {},
   "source": [
    "### Labor\n",
    "No significant correlation between a country's labor force and the country's happiness score (r = -0.07)."
   ]
  },
  {
   "cell_type": "markdown",
   "metadata": {},
   "source": [
    "### Life Expectancy\n",
    "\n",
    "#### Female\n",
    "Strong positive correlation between female life expectancy and happiness score (r = 0.76). \n",
    "#### Male\n",
    "Strong positive correlation between male life expectancy and happiness score (r = 0.79)."
   ]
  },
  {
   "cell_type": "markdown",
   "metadata": {},
   "source": [
    "### Military Expenditure\n",
    "No significant correlation between military spending as a percentage of a country’s GDP and the country’s happiness score (r = -0.22). "
   ]
  },
  {
   "cell_type": "markdown",
   "metadata": {},
   "source": [
    "### Population\n",
    "\n",
    "No significant correlation between a country's population and the country's happiness score (r = -0.1)."
   ]
  },
  {
   "cell_type": "markdown",
   "metadata": {},
   "source": [
    "### Adult Population (% of Population)\n",
    "\n",
    "Moderately strong positive correlation between a country's percentage of adult population and the country's happiness score (r = 0.5)."
   ]
  },
  {
   "cell_type": "markdown",
   "metadata": {},
   "source": [
    "### Primary Completion Rate\n",
    "(Data set incomplete, not included in final results)"
   ]
  },
  {
   "cell_type": "markdown",
   "metadata": {},
   "source": [
    "### Unemployment\n",
    "#### Total\n",
    "No significant correlation between a country's total unemployment and the country's happiness score (r= -0.17).\n",
    "\n",
    "#### Female\n",
    "No significant correlation between a country's female unemployment and the country's happiness score (r = -0.18).\n",
    "\n",
    "#### Male\n",
    "No significant correlation between a country's male unemployment and the country's happiness score (r = -0.16)."
   ]
  },
  {
   "cell_type": "code",
   "execution_count": null,
   "metadata": {},
   "outputs": [],
   "source": []
  },
  {
   "cell_type": "markdown",
   "metadata": {},
   "source": [
    "# Data Cleanup"
   ]
  },
  {
   "cell_type": "markdown",
   "metadata": {},
   "source": [
    "1. We imported our World Bank Indicator and World Happiness Score CSVs into DataFrames.\n",
    "2. Then, we merged our World Bank Indicator DataFrames, renaming columns as they were merged to represent the correct variable names.\n",
    "3. Once all World Bank DataFrames were merged, we made sure the country names in both the World Bank and World Happiness DataFrames matched each other (ie. United States vs. USA; making sure they both matched).\n",
    "4. Then, we inner joined the two DataFrames on country name to create our final merged Dataframe with which we were able to perform our final analyses.\n"
   ]
  }
 ],
 "metadata": {
  "kernelspec": {
   "display_name": "Python 3",
   "language": "python",
   "name": "python3"
  },
  "language_info": {
   "codemirror_mode": {
    "name": "ipython",
    "version": 3
   },
   "file_extension": ".py",
   "mimetype": "text/x-python",
   "name": "python",
   "nbconvert_exporter": "python",
   "pygments_lexer": "ipython3",
   "version": "3.8.5"
  }
 },
 "nbformat": 4,
 "nbformat_minor": 4
}
