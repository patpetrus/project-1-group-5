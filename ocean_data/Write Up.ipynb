{
 "cells": [
  {
   "cell_type": "markdown",
   "metadata": {},
   "source": [
    "# Total Population\n",
    "We performed a Pearson's correlation and created a scatter plot for our data. We found no significant correlation between total population of a country and the country's world happiness score (r = -0.1). "
   ]
  },
  {
   "cell_type": "markdown",
   "metadata": {},
   "source": [
    "# Adult Population as a Percentage of Total Population\n",
    "We performed a Pearson's correlation and created a scatter plot for our data. We found no significant correlation between adult population of a country and the country's world happiness score (r = 0.5). We found this surprising, given that total population and world happiness score had no correlation. "
   ]
  },
  {
   "cell_type": "markdown",
   "metadata": {},
   "source": [
    "# Total Unemployment\n",
    "We performed a Pearson's correlation and created a scatter plot for our data. We found no significant correlation between total unemployment of a country and the country's world happiness score (r= -0.17). "
   ]
  },
  {
   "cell_type": "markdown",
   "metadata": {},
   "source": [
    "# Total Female Unemployment\n",
    "We performed a Pearson's correlation and created a scatter plot for our data. We found no significant correlation between total female unemployment of a country and the country's world happiness score (r = -0.18). "
   ]
  },
  {
   "cell_type": "markdown",
   "metadata": {},
   "source": [
    "# Total Male Unemployment\n",
    "We performed a Pearson's correlation and created a scatter plot for our data. We found no significant correlation between total male unemployment of a country and the country's world happiness score (r = -0.16). "
   ]
  }
 ],
 "metadata": {
  "kernelspec": {
   "display_name": "Python 3",
   "language": "python",
   "name": "python3"
  },
  "language_info": {
   "codemirror_mode": {
    "name": "ipython",
    "version": 3
   },
   "file_extension": ".py",
   "mimetype": "text/x-python",
   "name": "python",
   "nbconvert_exporter": "python",
   "pygments_lexer": "ipython3",
   "version": "3.8.5"
  }
 },
 "nbformat": 4,
 "nbformat_minor": 4
}
