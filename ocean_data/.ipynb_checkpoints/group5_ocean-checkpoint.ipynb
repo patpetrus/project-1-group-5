{
 "cells": [
  {
   "cell_type": "code",
   "execution_count": null,
   "metadata": {},
   "outputs": [],
   "source": [
    "# Dependencies\n",
    "import pandas as pd\n",
    "import matplotlib.pyplot as plt\n",
    "import scipy.stats as st\n",
    "from scipy.stats import sem\n",
    "from scipy.stats import linregress"
   ]
  },
  {
   "cell_type": "code",
   "execution_count": null,
   "metadata": {},
   "outputs": [],
   "source": [
    "# Set path and read CSV\n",
    "path = '../ocean_data/final2_merge.csv'\n",
    "merged_df = pd.read_csv(path)\n",
    "merged_df"
   ]
  },
  {
   "cell_type": "code",
   "execution_count": null,
   "metadata": {},
   "outputs": [],
   "source": [
    "# Get rid of NaN values\n",
    "merged_df.dropna()\n",
    "merged_df"
   ]
  },
  {
   "cell_type": "markdown",
   "metadata": {},
   "source": [
    "## Let's start plotting!\n",
    "### Total Pop and World Happiness"
   ]
  },
  {
   "cell_type": "code",
   "execution_count": null,
   "metadata": {
    "scrolled": true
   },
   "outputs": [],
   "source": [
    "# 2015 Total Pop and 2015 World Happiness\n",
    "plt.scatter(merged_df['2015 Happiness Score'], merged_df['2015 Total Pop'])\n",
    "plt.xlabel('2015 Happiness Score')\n",
    "plt.ylabel('2015 Total Population')\n",
    "plt.title('2015 Happiness Scores and Total Population')\n",
    "plt.show()"
   ]
  },
  {
   "cell_type": "code",
   "execution_count": null,
   "metadata": {},
   "outputs": [],
   "source": [
    "# 2016 Total Pop and 2016 World Happiness\n",
    "plt.scatter(merged_df['2016 Happiness Score'], merged_df['2016 Total Pop'])\n",
    "plt.xlabel('2016 Happiness Score')\n",
    "plt.ylabel('2016 Total Population')\n",
    "plt.title('2016 Happiness Scores and Total Population')\n",
    "plt.show()"
   ]
  },
  {
   "cell_type": "code",
   "execution_count": null,
   "metadata": {},
   "outputs": [],
   "source": [
    "# 2017 Total Pop and 2017 World Happiness\n",
    "plt.scatter(merged_df['2017 Happiness Score'], merged_df['2017 Total Pop'])\n",
    "plt.xlabel('2017 Happiness Score')\n",
    "plt.ylabel('2017 Total Population')\n",
    "plt.title('2017 Happiness Scores and Total Population')\n",
    "plt.show()"
   ]
  },
  {
   "cell_type": "code",
   "execution_count": null,
   "metadata": {},
   "outputs": [],
   "source": [
    "# 2018 Total Pop and 2018 World Happiness\n",
    "plt.scatter(merged_df['2018 Happiness Score'], merged_df['2018 Total Pop'])\n",
    "plt.xlabel('2018 Happiness Score')\n",
    "plt.ylabel('2018 Total Population')\n",
    "plt.title('2018 Happiness Scores and Total Population')\n",
    "plt.show()"
   ]
  },
  {
   "cell_type": "code",
   "execution_count": null,
   "metadata": {},
   "outputs": [],
   "source": [
    "# 2019 Total Pop and 2019 World Happiness\n",
    "plt.scatter(merged_df['2019 Happiness Score'], merged_df['2019 Total Pop'])\n",
    "plt.xlabel('2019 Happiness Score')\n",
    "plt.ylabel('2019 Total Population')\n",
    "plt.title('2019 Happiness Scores and Total Population')\n",
    "plt.show()"
   ]
  },
  {
   "cell_type": "markdown",
   "metadata": {},
   "source": [
    "### Adult Pop and World Happiness"
   ]
  },
  {
   "cell_type": "code",
   "execution_count": null,
   "metadata": {},
   "outputs": [],
   "source": [
    "# 2015 Adult Pop and 2015 World Happiness\n",
    "\n",
    "# adults_2015 = merged_df.iloc[:, 6]\n",
    "# whs_2015 = merged_df.iloc[:, 91]\n",
    "# pop_whs_2015 = st.pearsonr(adults_2015, whs_2015)\n",
    "# print(f'The correlation between total population and world happiness score in 2015 is {round(pop_whs_2015[0],2)}.')\n",
    "\n",
    "\n",
    "# xValues = capDf['Weight (g)']\n",
    "# yValues = capDf['Tumor Volume (mm3)']\n",
    "# slope, intercept, rvalue, pvalue, stderr = linregress(xValues, yValues)\n",
    "# regressValues = xValues * slope + intercept\n",
    "# lineEq = \"y = \" + str(round(slope,2)) + \"x + \" + str(round(intercept,2))\n",
    "# plt.scatter(xValues,yValues)\n",
    "# plt.plot(xValues,regressValues,\"r-\")\n",
    "# plt.annotate(lineEq,(6,10),fontsize=15,color=\"red\")\n",
    "# plt.xlabel('Mouse Weight (g)')\n",
    "# plt.ylabel('Tumor Volume (mm3)')\n",
    "# plt.title('Mouse Weight and Average Tumor Volume: A Linear Regression')\n",
    "# plt.show()\n",
    "\n",
    "\n",
    "# x_adults = merged_df['2015 Happiness Score']\n",
    "# y_adults = merged_df['2015 Adults (%)']\n",
    "# slope, intercept, rvalue, pvalue, stderr = linregress(x_adults, y_adults)\n",
    "# regressValues = x_adults * slope + intercept\n",
    "# lineEq = \"y = \" + str(round(slope,2)) + \"x + \" + str(round(intercept,2))\n",
    "\n",
    "# plt.scatter(x_adults, y_adults)\n",
    "# plt.plot(x_adults,regressValues,\"r-\")\n",
    "# plt.annotate(lineEq,(6,10),fontsize=15,color=\"red\")\n",
    "# plt.xlabel('2015 Happiness Score')\n",
    "# plt.ylabel('2015 Total Adults (%)')\n",
    "# plt.title('2015 Happiness Scores and Total Adults (%)')\n",
    "# plt.show()"
   ]
  },
  {
   "cell_type": "code",
   "execution_count": null,
   "metadata": {},
   "outputs": [],
   "source": []
  },
  {
   "cell_type": "code",
   "execution_count": null,
   "metadata": {},
   "outputs": [],
   "source": []
  }
 ],
 "metadata": {
  "kernelspec": {
   "display_name": "Python 3",
   "language": "python",
   "name": "python3"
  },
  "language_info": {
   "codemirror_mode": {
    "name": "ipython",
    "version": 3
   },
   "file_extension": ".py",
   "mimetype": "text/x-python",
   "name": "python",
   "nbconvert_exporter": "python",
   "pygments_lexer": "ipython3",
   "version": "3.8.5"
  }
 },
 "nbformat": 4,
 "nbformat_minor": 4
}
